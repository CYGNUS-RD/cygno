{
 "cells": [
  {
   "cell_type": "code",
   "execution_count": null,
   "id": "6850cadf",
   "metadata": {
    "scrolled": true
   },
   "outputs": [],
   "source": [
    "import midas.file_reader\n",
    "from datetime import datetime\n",
    "import numpy as np\n",
    "from matplotlib import pyplot as plt\n",
    "import cygno as cy\n",
    "\n",
    "mfile = cy.open_mid(run=1385, path='/tmp/', cloud=True, tag='LNGS', verbose=True)\n",
    "\n",
    "for event in mfile:\n",
    "    if event.header.is_midas_internal_event():\n",
    "        print(\"Saw a special event\")\n",
    "        continue\n",
    "\n",
    "    bank_names = \", \".join(b.name for b in event.banks.values())\n",
    "    print(\"Event # %s of type ID %s contains banks %s\" % (event.header.serial_number, event.header.event_id, bank_names))\n",
    "    print(\"Received event with timestamp %s containing banks %s\" % (event.header.timestamp, bank_names))\n",
    "    print(\"%s, banks %s\" % (datetime.utcfromtimestamp(event.header.timestamp).strftime('%Y-%m-%d %H:%M:%S'), bank_names))\n",
    "\n",
    "    for bank_name, bank in event.banks.items():\n",
    "        if bank_name=='DGH0': # PMTs wavform \n",
    "            header = cy.daq_dgz2header(bank)\n",
    "            print (header)\n",
    "            waveform = cy.daq_dgz2array(event.banks['DIG0'], header)\n",
    "            plt.plot()\n",
    "        if bank_name=='CAM0': # CAM image\n",
    "            image, _, _ = cy.daq_cam2array(bank)\n",
    "            plt.figure(figsize=(8,8))\n",
    "            plt.imshow(image, vmin=95, vmax=150)\n",
    "            plt.show()\n",
    "        if bank_name=='INPT': # SLOW channels array\n",
    "            slow = cy.daq_slow2array(bank)"
   ]
  },
  {
   "cell_type": "code",
   "execution_count": null,
   "id": "560255e5",
   "metadata": {},
   "outputs": [],
   "source": [
    "!rm /tmp/run01385.mid.gz"
   ]
  },
  {
   "cell_type": "code",
   "execution_count": null,
   "id": "7e3c2e1b",
   "metadata": {
    "scrolled": false
   },
   "outputs": [],
   "source": [
    "import midas.file_reader\n",
    "from datetime import datetime\n",
    "import numpy as np\n",
    "from matplotlib import pyplot as plt\n",
    "import cygno as cy\n",
    "\n",
    "mfile = cy.open_mid(run=2300, path='/tmp/', cloud=True, tag='LNGS', verbose=True)\n",
    "\n",
    "def plot_waveform(waveform, lenw, pmt, event_number, event_time):\n",
    "    import numpy as np\n",
    "    \n",
    "    t = np.linspace(0,lenw, lenw)\n",
    "    for ipmt in range(pmt):\n",
    "        plt.subplot(pmt, 2, ipmt*2+2)\n",
    "        plt.plot(t, waveform[ipmt])\n",
    "        plt.show()\n",
    "    return\n",
    "\n",
    "for event in mfile:\n",
    "    if event.header.is_midas_internal_event():\n",
    "        print(\"Saw a special event\")\n",
    "        continue\n",
    "\n",
    "    bank_names = \", \".join(b.name for b in event.banks.values())\n",
    "    if event.header.serial_number%10 == 0:\n",
    "        print(\"Event # %s of type ID %s contains banks %s\" % (event.header.serial_number, event.header.event_id, bank_names))\n",
    "        print(\"Received event with timestamp %s containing banks %s\" % (event.header.timestamp, bank_names))\n",
    "        print(\"%s, banks %s\" % (datetime.utcfromtimestamp(event.header.timestamp).strftime('%Y-%m-%d %H:%M:%S'), bank_names))\n",
    "        event_number = event.header.serial_number\n",
    "        event_time = datetime.fromtimestamp(event.header.timestamp).strftime('%Y-%m-%d %H:%M:%S')\n",
    "    for bank_name, bank in event.banks.items():\n",
    "        if bank_name=='DGH0': # PMTs wavform \n",
    "            waveform_header = cy.daq_dgz2header(bank)\n",
    "            print (waveform_header)\n",
    "            waveform = cy.daq_dgz2array(event.banks['DIG0'], waveform_header)\n",
    "            lenw = waveform_header[2]\n",
    "            plot_waveform(waveform, lenw, 5, event_number, event_time)\n",
    "        if bank_name=='CAM0': # CAM image\n",
    "            image, _, _ = cy.daq_cam2array(bank)\n",
    "#             plt.figure(figsize=(8,8))\n",
    "#             plt.imshow(image, vmin=95, vmax=150)\n",
    "#             plt.show()\n",
    "        if bank_name=='INPT': # SLOW channels array\n",
    "            slow = cy.daq_slow2array(bank)"
   ]
  },
  {
   "cell_type": "code",
   "execution_count": null,
   "id": "4df61387",
   "metadata": {},
   "outputs": [],
   "source": [
    "ls /tmp/his*"
   ]
  },
  {
   "cell_type": "code",
   "execution_count": null,
   "id": "13b337e3",
   "metadata": {},
   "outputs": [],
   "source": [
    "# root access\n",
    "#\n",
    "import ROOT\n",
    "f = ROOT.TFile.Open(\"/tmp/histograms_Run00089.root\")\n",
    "h = ROOT.TH2D(\"h1\",\"Machine A + B\",2304,0,2304,2304,0,2304);\n",
    "h = f.Get('pic_run89_ev0')\n",
    "\n",
    "c = ROOT.TCanvas();\n",
    "#h.Draw()\n",
    "#c.Draw()"
   ]
  },
  {
   "cell_type": "code",
   "execution_count": null,
   "id": "2eade9f5",
   "metadata": {},
   "outputs": [],
   "source": [
    "f.ls()"
   ]
  },
  {
   "cell_type": "code",
   "execution_count": null,
   "id": "5af2602a",
   "metadata": {},
   "outputs": [],
   "source": [
    "h.RebinX(128)\n",
    "h.RebinY(128)\n",
    "\n",
    "h.Draw('col')\n",
    "c.Draw()"
   ]
  },
  {
   "cell_type": "code",
   "execution_count": null,
   "id": "72e20f31",
   "metadata": {},
   "outputs": [],
   "source": [
    "import cygno as cy"
   ]
  },
  {
   "cell_type": "code",
   "execution_count": null,
   "id": "72f73579",
   "metadata": {},
   "outputs": [],
   "source": [
    "cy.s3.obj_size('run01385.mid.gz', tag='LNGS', bucket='cygno-data', session=\"infncloud-iam\", verbose=True)"
   ]
  },
  {
   "cell_type": "code",
   "execution_count": null,
   "id": "d8ea1fe9",
   "metadata": {},
   "outputs": [],
   "source": []
  }
 ],
 "metadata": {
  "kernelspec": {
   "display_name": "Python 3 (ipykernel)",
   "language": "python",
   "name": "python3"
  },
  "language_info": {
   "codemirror_mode": {
    "name": "ipython",
    "version": 3
   },
   "file_extension": ".py",
   "mimetype": "text/x-python",
   "name": "python",
   "nbconvert_exporter": "python",
   "pygments_lexer": "ipython3",
   "version": "3.9.10"
  }
 },
 "nbformat": 4,
 "nbformat_minor": 5
}
